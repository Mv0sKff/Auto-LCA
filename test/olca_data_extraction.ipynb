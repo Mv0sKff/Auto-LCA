{
 "cells": [
  {
   "cell_type": "markdown",
   "id": "c7b12f67",
   "metadata": {},
   "source": [
    "Zolca files are merely a zip of an apache derby database. Processing a zolca file required loading it into OpenLCA first and exporting the database to a JSON-LD format. This JSON-LD file can be used for processing. The python package `olca-schema` package was chosen for this task."
   ]
  },
  {
   "cell_type": "code",
   "execution_count": 1,
   "id": "8fdfb0bc",
   "metadata": {},
   "outputs": [
    {
     "name": "stdout",
     "output_type": "stream",
     "text": [
      "Requirement already satisfied: olca-schema in c:\\users\\ruben\\anaconda3\\envs\\aki\\lib\\site-packages (2.4.0)\n"
     ]
    }
   ],
   "source": [
    "!pip install olca-schema"
   ]
  },
  {
   "cell_type": "markdown",
   "id": "6a2029e5",
   "metadata": {},
   "source": [
    "Is is expected that all databases are already exported as a zip of JSON-LD files and reside in the /data folder."
   ]
  },
  {
   "cell_type": "code",
   "execution_count": 4,
   "id": "8538dfeb",
   "metadata": {},
   "outputs": [],
   "source": [
    "from os import listdir\n",
    "from pathlib import Path\n",
    "\n",
    "DATA_DIR = Path(\"../data\")\n",
    "\n",
    "data_sources = [DATA_DIR / f for f in listdir(DATA_DIR) if f.endswith('.zip')]"
   ]
  },
  {
   "cell_type": "markdown",
   "id": "e3a3cb26",
   "metadata": {},
   "source": [
    "Extracting all flows that represent products into `products.txt`. These flows may be searched for matches or approxiate matches to the requested product."
   ]
  },
  {
   "cell_type": "code",
   "execution_count": 5,
   "id": "c4a17465",
   "metadata": {},
   "outputs": [],
   "source": [
    "from olca_schema import Flow, FlowType\n",
    "from olca_schema.zipio import ZipReader\n",
    "\n",
    "products = []\n",
    "\n",
    "for data_source in data_sources:\n",
    "    with ZipReader(data_source) as reader:\n",
    "        for flow in filter(lambda x: x.flow_type == FlowType.PRODUCT_FLOW, reader.read_each(Flow)):\n",
    "            products.append(f\"{flow.category}/{flow.name}\\n\")\n",
    "\n",
    "with open(\"products.txt\", \"w\") as f:\n",
    "    f.writelines(products)"
   ]
  }
 ],
 "metadata": {
  "kernelspec": {
   "display_name": "aki",
   "language": "python",
   "name": "python3"
  },
  "language_info": {
   "codemirror_mode": {
    "name": "ipython",
    "version": 3
   },
   "file_extension": ".py",
   "mimetype": "text/x-python",
   "name": "python",
   "nbconvert_exporter": "python",
   "pygments_lexer": "ipython3",
   "version": "3.11.8"
  }
 },
 "nbformat": 4,
 "nbformat_minor": 5
}
